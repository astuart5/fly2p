{
 "cells": [
  {
   "cell_type": "markdown",
   "id": "2d18da2e",
   "metadata": {},
   "source": [
    "## Processing of imaging data using max-projection (i.e. data compressed to 3D)\n",
    "\n",
    "This preprocessing pipeline can be used to process  single-plane imaging data (3D) or volume imaging data (4D). In the latter case, the volume is collapsed through a max projection."
   ]
  },
  {
   "cell_type": "code",
   "execution_count": 1,
   "id": "aa73713d",
   "metadata": {},
   "outputs": [],
   "source": [
    "from ScanImageTiffReader import ScanImageTiffReader\n",
    "import json\n",
    "from matplotlib import pyplot as plt\n",
    "import matplotlib.colors as colors\n",
    "import numpy as np\n",
    "\n",
    "#from sys import path\n",
    "from os.path import sep, exists\n",
    "from os import mkdir, makedirs, getcwd\n",
    "\n",
    "import napari\n",
    "import xarray as xr\n",
    "import pandas as pd\n",
    "\n",
    "%gui qt5\n",
    "%config Completer.use_jedi = False  #magic to fix autocomplete issue"
   ]
  },
  {
   "cell_type": "code",
   "execution_count": null,
   "id": "f4f4d410",
   "metadata": {},
   "outputs": [],
   "source": [
    "from fly2p.viz.viz import *\n",
    "import fly2p.preproc.imgPreproc as imp\n",
    "from fly2p.preproc.scanImageUtils import getSIbasicMetadata, getSIMetadict, loadvolume"
   ]
  },
  {
   "cell_type": "markdown",
   "id": "bc48c0a5",
   "metadata": {},
   "source": [
    "#### Set paths to data files and plot directory"
   ]
  },
  {
   "cell_type": "code",
   "execution_count": null,
   "id": "4303b9b5",
   "metadata": {},
   "outputs": [],
   "source": [
    "dataDir = '../sample/'\n",
    "rawTiff = 'SS96-x-7f_EB_sample.tif'\n",
    "genotype = 'SS96-x-GCaMP7f'\n",
    "flyID = 'testfly'\n",
    "trial = 'test'\n",
    "region = 'ellipsoid body'\n",
    "        \n",
    "saveDir = dataDir\n",
    "preprocDir = dataDir\n",
    "# Generate directory where to save plots\n",
    "if not exists(saveDir): makedirs(saveDir)\n",
    "if not exists(preprocDir): makedirs(preprocDir)"
   ]
  },
  {
   "cell_type": "markdown",
   "id": "92e1c14a",
   "metadata": {},
   "source": [
    "#### Load data and perform motion correction"
   ]
  },
  {
   "cell_type": "code",
   "execution_count": null,
   "id": "e1eed564",
   "metadata": {},
   "outputs": [],
   "source": [
    "mytiffreader = ScanImageTiffReader(sep.join([dataDir, rawTiff]))\n",
    "basicMetadat = getSIbasicMetadata(mytiffreader.metadata())\n",
    "basicMetadat[\"CaCh\"] = 0 # give channel identity\n",
    "SImetadict = getSIMetadict(mytiffreader.metadata())"
   ]
  },
  {
   "cell_type": "code",
   "execution_count": null,
   "id": "ac374f9c",
   "metadata": {},
   "outputs": [],
   "source": [
    "basicMetadat"
   ]
  },
  {
   "cell_type": "code",
   "execution_count": null,
   "id": "fb9888e6",
   "metadata": {},
   "outputs": [],
   "source": [
    "# Load data: With larger file sizes, the scanimage loader fails (idk why)\n",
    "stack = loadvolume(sep.join([dataDir, rawTiff]), basicMetadat, selectCaChan=True)\n",
    "imgStack = imp.stack2xarray(stack, basicMetadat)"
   ]
  },
  {
   "cell_type": "markdown",
   "id": "245f9eb7",
   "metadata": {},
   "source": [
    "Check if reference image is good: It should not be to biased by transient activity peaks."
   ]
  },
  {
   "cell_type": "code",
   "execution_count": null,
   "id": "db284f87",
   "metadata": {},
   "outputs": [],
   "source": [
    "# Set reference image\n",
    "stackMP = np.max(imgStack, axis=1) # max projection over volume\n",
    "\n",
    "numRefImg = 20\n",
    "refstart = 100\n",
    "locRefImg = round(stackMP['volumes [s]'].size/2)\n",
    "\n",
    "# Generate reference image\n",
    "refImg = np.mean(stackMP[locRefImg:locRefImg+numRefImg,:,:],axis=0) + np.mean(stackMP[refstart:refstart+numRefImg,:,:],axis=0)\n",
    "\n",
    "from scipy.ndimage.filters import gaussian_filter\n",
    "refImgFilt = gaussian_filter(refImg, sigma=2)\n",
    "\n",
    "fig, axs = plt.subplots(1,2,figsize=(8,4))\n",
    "axs[0].imshow(refImg,cmap='Greys_r', origin='lower'); axs[0].axis('off');\n",
    "axs[1].imshow(refImgFilt,cmap='Greys_r', origin='lower'); axs[1].axis('off');"
   ]
  },
  {
   "cell_type": "code",
   "execution_count": null,
   "id": "a47e5d89",
   "metadata": {},
   "outputs": [],
   "source": [
    "# If there are unreasonable shifts select \"doFilter=True\".\n",
    "\n",
    "shift = imp.computeMotionShift(stackMP, refImg, 10, 2, doFilter=False, stdFactor=4, showShiftFig=True)\n",
    "stackMPMC = imp.motionCorrection(stackMP, shift)"
   ]
  },
  {
   "cell_type": "markdown",
   "id": "432bbc38",
   "metadata": {},
   "source": [
    "#### Compute DFF"
   ]
  },
  {
   "cell_type": "code",
   "execution_count": null,
   "id": "90898e6a",
   "metadata": {},
   "outputs": [],
   "source": [
    "## Settings\n",
    "# settings for Savitzky-Golay filter (default: 3rd order, 7 frames)\n",
    "order = 3\n",
    "window = 7\n",
    "\n",
    "# Currently F_0 is estimated for each pixel on the whole time series (ok, if time series is short)\n",
    "baseLinePercent = 10\n",
    "offset = 0.0001"
   ]
  },
  {
   "cell_type": "markdown",
   "id": "52f9c9c6",
   "metadata": {},
   "source": [
    "***Specify region for background subtraction***\n",
    "* Paint a small region named \"background\" using a brush in the Labels menu in the napari gui. This region should not overlap with the intended signal roi.\n",
    "* If there is an existing mask placed in the preprocessing folder of the fly and/or tiral, it will be loaded automatically\n",
    "* If subtracting using rolling ball, skip the next 2 cells"
   ]
  },
  {
   "cell_type": "code",
   "execution_count": null,
   "id": "28011aa7",
   "metadata": {},
   "outputs": [],
   "source": [
    "# you can draw a mask on the foreground\n",
    "viewer = napari.view_image(stackMPMC.mean(axis=0), contrast_limits=[stackMPMC.data.mean(axis=0).min(),np.percentile(stackMPMC.mean(axis=0), 99.9)])\n",
    "\n",
    "if exists(sep.join([preprocDir,'background_3d.npy'])):\n",
    "    background = np.load(sep.join([preprocDir,'background_3d.npy'])) \n",
    "    viewer.add_labels(background, name='background')"
   ]
  },
  {
   "cell_type": "code",
   "execution_count": null,
   "id": "5701c4cd",
   "metadata": {},
   "outputs": [],
   "source": [
    "background = viewer.layers[\"background\"].data\n",
    "\n",
    "if not exists(preprocDir): makedirs(sep.join([preprocDir]))\n",
    "np.save(sep.join([preprocDir,'background_3d']), background)\n",
    "viewer.close()\n",
    "\n",
    "plt.imshow(background);\n",
    "plt.title(\"Background Mask\");"
   ]
  },
  {
   "cell_type": "code",
   "execution_count": null,
   "id": "ff5bbc54",
   "metadata": {},
   "outputs": [],
   "source": [
    "dffStack, stackF0 = imp.computeDFF(stackMPMC, order, window, baseLinePercent, offset)\n",
    "dffXarray = imp.stack2xarray(dffStack, basicMetadat, data4D = False)\n",
    "F0Xarray = imp.refStack2xarray(stackF0, basicMetadat, data4D = False)"
   ]
  },
  {
   "cell_type": "code",
   "execution_count": null,
   "id": "1a2e5c4e",
   "metadata": {},
   "outputs": [],
   "source": [
    "dffMP = np.max(dffStack,axis=0)\n",
    "fig, ax = plt.subplots(1,2,figsize=(10,4))\n",
    "cb = ax[0].imshow(stackF0,cmap='viridis',origin='upper')#, vmin=0, vmax=10)\n",
    "plt.colorbar(cb, ax=ax[0], label='baseline ({}%)'.format(baseLinePercent))\n",
    "ax[0].axis('off')\n",
    "cb = ax[1].imshow(dffMP,cmap='viridis',origin='upper')#, vmin=0, vmax=10)\n",
    "plt.colorbar(cb, ax=ax[1], label='pixelwise DFF')\n",
    "ax[1].axis('off')\n",
    "fig.tight_layout()\n",
    "#viewerdff = napari.view_image(dffStackMC)\n",
    "fig.savefig(saveDir+sep+'BaselineAndDFF_MIP_3d.pdf')"
   ]
  },
  {
   "cell_type": "markdown",
   "id": "88923ac0",
   "metadata": {},
   "source": [
    "### Generate ROIs automatically\n",
    "We will do this here only for pixels within a manually drawn mask, but it also works fine without a mask."
   ]
  },
  {
   "cell_type": "code",
   "execution_count": null,
   "id": "805f4bd9",
   "metadata": {},
   "outputs": [],
   "source": [
    "# you can draw a mask to constraint which pixels will be included in corrleation analysis\n",
    "viewer = napari.view_image(refImgFilt)\n",
    "if exists(sep.join([preprocDir,'mask_3d.npy'])):\n",
    "    mask = np.load(sep.join([preprocDir,'mask_3d.npy'])) \n",
    "    viewer.add_labels(mask, opacity=0.2)"
   ]
  },
  {
   "cell_type": "code",
   "execution_count": null,
   "id": "5c029b05",
   "metadata": {},
   "outputs": [],
   "source": [
    "mask = viewer.layers[\"mask\"]\n",
    "viewer.close()\n",
    "if not exists(sep.join([preprocDir,'mask_3d.npy'])):\n",
    "    if not exists(sep.join([preprocDir])): makedirs(sep.join([preprocDir]))\n",
    "    np.save(sep.join([preprocDir,'mask']), mask.data)\n",
    "fig, ax = plt.subplots(1,1,figsize=(5,5))\n",
    "ax.imshow(refImg,cmap='Greys_r',origin='upper')\n",
    "ax.axis('off');\n",
    "ax.imshow(mask.data, cmap='Oranges', alpha=0.35)\n",
    "fig.savefig(saveDir+sep+'mask_3d.pdf')"
   ]
  },
  {
   "cell_type": "code",
   "execution_count": null,
   "id": "bbb4e967",
   "metadata": {},
   "outputs": [],
   "source": [
    "from sklearn.cluster import KMeans\n",
    "nclst = 10\n",
    "\n",
    "toClust = dffStack[:,mask.data>0]\n",
    "kmeans = KMeans(n_clusters=nclst)\n",
    "kmeans.fit(toClust.T)\n",
    "\n",
    "kmlabs = kmeans.predict(toClust.T)\n",
    "centroids = kmeans.cluster_centers_"
   ]
  },
  {
   "cell_type": "code",
   "execution_count": null,
   "id": "f3209c60",
   "metadata": {},
   "outputs": [],
   "source": [
    "myClstMap = 'tab20b_r'\n",
    "cNorm  = colors.Normalize(vmin=1, vmax=nclst)\n",
    "clstCMap = plt.cm.ScalarMappable(norm=cNorm,cmap=myClstMap)\n",
    "\n",
    "time = dffXarray.coords['volumes [s]'].values"
   ]
  },
  {
   "cell_type": "code",
   "execution_count": null,
   "id": "edb082fa",
   "metadata": {},
   "outputs": [],
   "source": [
    "kmlabsImg = np.nan*np.ones(mask.data.shape)\n",
    "\n",
    "kmlabsImg[mask.data>0] = kmlabs\n",
    "\n",
    "fig, axs = plt.subplots(1,2,figsize=(12,4), gridspec_kw={'width_ratios':[1,2]})\n",
    "\n",
    "axs[0].imshow(kmlabsImg,cmap=myClstMap,origin='upper')\n",
    "axs[0].axis('off')\n",
    "\n",
    "for i in range(nclst):\n",
    "    axs[1].plot(time,centroids[i]+i*0.5, color=clstCMap.to_rgba(i+1))\n",
    "    axs[1].text(-10,i*0.5+.1,str(i),color=clstCMap.to_rgba(i+1))\n",
    "axs[1].set_xlabel('Time [s]')\n",
    "axs[1].set_ylabel('DFF (+ 0.5*cluster ID)')\n",
    "myAxisTheme(axs[1])\n",
    "fig.tight_layout()\n",
    "fig.savefig(saveDir+sep+'ROIcluster_kn{}_3d.pdf'.format(nclst))"
   ]
  },
  {
   "cell_type": "code",
   "execution_count": null,
   "id": "f81579c9",
   "metadata": {},
   "outputs": [],
   "source": [
    "permutation = [0,3,5,1,4,8,2,7,9,6]\n",
    "fig, ax = plt.subplots(1,1,figsize=(12,4))\n",
    "plotDFFheatmap(time, centroids[permutation,:], ax, fig)"
   ]
  },
  {
   "cell_type": "markdown",
   "id": "2f9d6872",
   "metadata": {},
   "source": [
    "## Generate ROIs by splitting in 16 or 32 wedges"
   ]
  },
  {
   "cell_type": "code",
   "execution_count": null,
   "id": "e4b74a1b",
   "metadata": {},
   "outputs": [],
   "source": [
    "# you can draw a mask to constraint which pixels will be included in corrleation analysis\n",
    "viewer = napari.view_image(dffMP)\n",
    "if exists(sep.join([preprocDir,'EBctr.npy'])):\n",
    "    ebcenter = np.load(sep.join([preprocDir,'EBctr.npy'])) \n",
    "    eblongax = np.load(sep.join([preprocDir,'EBlax.npy'])) \n",
    "    ebshortax = np.load(sep.join([preprocDir,'EBsax.npy'])) \n",
    "    viewer.add_points(ebcenter, size = 5, name='EBctr')\n",
    "    viewer.add_shapes(eblongax, name='EBlax',shape_type='line', edge_color = 'cyan')\n",
    "    viewer.add_shapes(ebshortax, name='EBsax',shape_type='line', edge_color = 'blue')"
   ]
  },
  {
   "cell_type": "code",
   "execution_count": null,
   "id": "4a3c94aa",
   "metadata": {},
   "outputs": [],
   "source": [
    "ebcenter = viewer.layers[\"EBctr\"].data[0]\n",
    "eblongax = viewer.layers[\"EBlax\"].data[0]\n",
    "ebshortax = viewer.layers[\"EBsax\"].data[0]\n",
    "if not exists(sep.join([preprocDir])): makedirs(sep.join([preprocDir]))\n",
    "np.save(sep.join([preprocDir,'EBctr']), ebcenter)\n",
    "np.save(sep.join([preprocDir,'EBlax']), eblongax)\n",
    "np.save(sep.join([preprocDir,'EBsax']), ebshortax)\n",
    "viewer.close()"
   ]
  },
  {
   "cell_type": "code",
   "execution_count": null,
   "id": "92cfa14f",
   "metadata": {},
   "outputs": [],
   "source": [
    "EBaxisL, EBaxisS, ellipseRot, ebcenter, EBoutline = generateEBellipse(eblongax,ebshortax,ebcenter,printResults = False)\n",
    "EBroiPts, EBroiPolys = constructEBROIs(ebcenter, EBoutline, nsteps=EBslices, st=startLoc)\n",
    "\n",
    "refEBimg = np.mean(stackMPMC,axis=0).T\n",
    "fig = plotEBshapelyROIs(refEBimg, ebcenter, EBaxisL, EBaxisS, ellipseRot, EBoutline, EBroiPts, EBroiPolys)\n",
    "fig.savefig(saveDir+sep+'_'.join(['polyRoiConstruction',genotype, region, flyID, condition, trial])+'.pdf')"
   ]
  },
  {
   "cell_type": "code",
   "execution_count": null,
   "id": "e9f14481",
   "metadata": {},
   "outputs": [],
   "source": [
    "dffROI = getDFFfromEllipseROI(EBroiPts,EBroiPolys,dffXarray)\n",
    "time = dffXarray.coords['volumes [s]'].values"
   ]
  },
  {
   "cell_type": "code",
   "execution_count": null,
   "id": "149946c0",
   "metadata": {},
   "outputs": [],
   "source": [
    "fig, axs = plt.subplots(1,2, figsize=(15,4),gridspec_kw={'width_ratios':[1,3.5]})\n",
    "axs[0].imshow(np.mean(stackMPMC,axis=0).T,cmap='Greys_r', origin='lower')#, vmin=0, vmax=0.7*np.max(stackMP))\n",
    "\n",
    "patch = ppatch.Ellipse(ebcenter, EBaxisL.length, EBaxisS.length, -ellipseRot, alpha = 0.4, color='tomato')\n",
    "\n",
    "axs[0].add_patch(patch)\n",
    "axs[0].plot(EBoutline.coords.xy[0],EBoutline.coords.xy[1], color='tomato', linewidth=1)\n",
    "\n",
    "for s in range(len(EBroiPts)-1):\n",
    "    roiPatch = ppatch.Polygon(EBroiPolys[s],alpha=0.4, edgecolor='turquoise', facecolor='none')\n",
    "    axs[0].add_patch(roiPatch)\n",
    "    axs[0].plot(EBroiPts[s+1][0],EBroiPts[s+1][1], 'w.')\n",
    "    labcoord = Polygon(EBroiPolys[s]).centroid.coords.xy\n",
    "    axs[0].text(labcoord[0][0],labcoord[1][0], str(s+1), color='w')\n",
    "\n",
    "axs[0].plot(EBroiPts[0][0],EBroiPts[0][1], 'w.')\n",
    "axs[0].axis('off')\n",
    "axs[0].set_title(', '.join([genotype, region, condition, trial]))\n",
    "\n",
    "axs[1] = plotDFFheatmap(time, dffROI, axs[1], fig) #vmax=1.5)\n",
    "myAxisTheme(axs[1])\n",
    "\n",
    "fig.tight_layout()\n",
    "fig.savefig(saveDir+sep+'_'.join(['roiMap-dFFtimeseries',genotype, region, flyID, condition, trial])+'.pdf')"
   ]
  },
  {
   "cell_type": "markdown",
   "id": "9d04cb7a",
   "metadata": {},
   "source": [
    "#### Generate data object and save to disk"
   ]
  },
  {
   "cell_type": "code",
   "execution_count": null,
   "id": "3c283e46",
   "metadata": {},
   "outputs": [],
   "source": [
    "roiDf = pd.DataFrame(data = dffROI.T, columns = ['slice{}'.format(i+1) for i in range(len(EBroiPts)-1)])\n",
    "roiDf['time [s]'] = time\n",
    "roiDf.head()"
   ]
  },
  {
   "cell_type": "code",
   "execution_count": null,
   "id": "07e25d7b",
   "metadata": {},
   "outputs": [],
   "source": [
    "roiDf = pd.DataFrame(data = centroids.T, columns = ['roi{}'.format(i+1) for i in range(nclst)])\n",
    "roiDf['time [s]'] = time\n",
    "roiDf.head()"
   ]
  },
  {
   "cell_type": "code",
   "execution_count": null,
   "id": "5211e490",
   "metadata": {},
   "outputs": [],
   "source": [
    "expMetadata = {\n",
    "    'tiffilename': rawTiff,\n",
    "    'genotype': genotype,\n",
    "    'flyid': flyID,\n",
    "    'trial':trial,\n",
    "    'condition':'test',\n",
    "    'roitype': \"corr\",\n",
    "    'brainregion': region\n",
    "}\n",
    "\n",
    "imgTS_corrroi = imp.imagingTimeseries(\n",
    "    imgMetadata = basicMetadat,\n",
    "    expMetadata = expMetadata,\n",
    "    refImage = refImg, \n",
    "    dffStack = dffXarray, \n",
    "    F0stack = F0Xarray,\n",
    "    roitype = \"corr\",\n",
    "    roiMask = kmlabsImg, \n",
    "    roiDFF = roiDf\n",
    ")\n",
    "\n",
    "path2imgdat = imgTS_corrroi.saveData(preprocDir,'')"
   ]
  },
  {
   "cell_type": "code",
   "execution_count": null,
   "id": "753834bb",
   "metadata": {},
   "outputs": [],
   "source": [
    "# To load data from previously save files into object: \n",
    "imgTS_load = imp.loadImagingTimeseries(path2imgdat)"
   ]
  },
  {
   "cell_type": "code",
   "execution_count": null,
   "id": "81507c37",
   "metadata": {},
   "outputs": [],
   "source": []
  }
 ],
 "metadata": {
  "kernelspec": {
   "display_name": "fly2p",
   "language": "python",
   "name": "fly2p"
  },
  "language_info": {
   "codemirror_mode": {
    "name": "ipython",
    "version": 3
   },
   "file_extension": ".py",
   "mimetype": "text/x-python",
   "name": "python",
   "nbconvert_exporter": "python",
   "pygments_lexer": "ipython3",
   "version": "3.8.12"
  }
 },
 "nbformat": 4,
 "nbformat_minor": 5
}
